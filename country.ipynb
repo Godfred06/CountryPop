{
 "cells": [
  {
   "cell_type": "code",
   "execution_count": 31,
   "metadata": {},
   "outputs": [
    {
     "name": "stdout",
     "output_type": "stream",
     "text": [
      "Andorra Could not get the population\n",
      "Bahamas Could not get the population\n",
      "Congo Could not get the population\n",
      "Cote d'Ivoire Could not get the population\n",
      "Czechia Could not get the population\n",
      "Democratic Republic of Congo Could not get the population\n",
      "Eswatini Could not get the population\n",
      "Gambia Could not get the population\n",
      "Micronesia Could not get the population\n",
      "Montenegro Could not get the population\n",
      "Myanmar Could not get the population\n",
      "North Macedonia Could not get the population\n",
      "Palestine Could not get the population\n",
      "Sao Tome and Principe Could not get the population\n",
      "Timor Could not get the population\n",
      "United States Virgin Islands Could not get the population\n"
     ]
    }
   ],
   "source": [
    "import pandas as pd\n",
    "from countryinfo import  CountryInfo\n",
    "country_df= pd.read_excel('/Users/Godfred King/Desktop/Tableau/countries.xlsx')\n",
    "\n",
    "#print(CountryInfo('Ghana').population())\n",
    "countries =list(country_df['Country '])\n",
    "\n",
    "country_dict={}\n",
    "\n",
    "\n",
    "def get_population(countries):\n",
    "    '''This is a function to get the populations of the country\n",
    "\n",
    "    Countries is a list.\n",
    "    '''\n",
    "    for country in countries:\n",
    "        \n",
    "        try:\n",
    "            pop=CountryInfo(country).population()\n",
    "        except:\n",
    "            print(country, 'Could not get the population') \n",
    "        country_dict[country]= pop \n",
    "    return country_dict  \n",
    "    \n",
    "population = get_population(countries)\n"
   ]
  },
  {
   "cell_type": "code",
   "execution_count": 32,
   "metadata": {},
   "outputs": [],
   "source": [
    "outfile= open('Country Population.csv','w')\n",
    "outfile.write(\"Country,Population\")\n",
    "outfile.write('\\n')\n",
    "for country in countries:\n",
    "    rowstring=\"{}, {}\".format(country,population[country])\n",
    "    outfile.write(rowstring)\n",
    "    outfile.write('\\n')\n",
    "outfile.close()"
   ]
  }
 ],
 "metadata": {
  "kernelspec": {
   "display_name": "Python 3.9.7 64-bit",
   "language": "python",
   "name": "python3"
  },
  "language_info": {
   "codemirror_mode": {
    "name": "ipython",
    "version": 3
   },
   "file_extension": ".py",
   "mimetype": "text/x-python",
   "name": "python",
   "nbconvert_exporter": "python",
   "pygments_lexer": "ipython3",
   "version": "3.9.7"
  },
  "orig_nbformat": 4,
  "vscode": {
   "interpreter": {
    "hash": "e67998156ea83e4a325ffbecb55a4d3b4b7e9af6f2214579e512edd97a0b1ec2"
   }
  }
 },
 "nbformat": 4,
 "nbformat_minor": 2
}
